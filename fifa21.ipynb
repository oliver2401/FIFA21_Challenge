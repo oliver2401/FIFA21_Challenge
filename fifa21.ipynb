{
 "metadata": {
  "language_info": {
   "codemirror_mode": {
    "name": "ipython",
    "version": 3
   },
   "file_extension": ".py",
   "mimetype": "text/x-python",
   "name": "python",
   "nbconvert_exporter": "python",
   "pygments_lexer": "ipython3",
   "version": "3.6.9"
  },
  "orig_nbformat": 2,
  "kernelspec": {
   "name": "python3",
   "display_name": "Python 3.6.9 64-bit",
   "metadata": {
    "interpreter": {
     "hash": "31f2aee4e71d21fbe5cf8b01ff0e069b9275f58929596ceb00d14d90e3e16cd6"
    }
   }
  }
 },
 "nbformat": 4,
 "nbformat_minor": 2,
 "cells": [
  {
   "cell_type": "code",
   "execution_count": 1,
   "metadata": {},
   "outputs": [],
   "source": [
    "from pyspark.sql import SparkSession\n",
    "from pyspark.sql.functions import sum, expr, rand, when, count, col\n",
    "\n",
    "spark = SparkSession.builder.appName(\"FIFA 21 Challenge\") \\\n",
    "    .master(\"local[3]\") \\\n",
    "    .config(\"spark.jars.packages\", \"io.delta:delta-core_2.12:0.7.0\") \\\n",
    "    .config(\"spark.sql.extensions\", \"io.delta.sql.DeltaSparkSessionExtension\") \\\n",
    "    .config(\"spark.sql.catalog.spark_catalog\", \"org.apache.spark.sql.delta.catalog.DeltaCatalog\") \\\n",
    "    .enableHiveSupport() \\\n",
    "    .getOrCreate()\n",
    "\n",
    "\n",
    "from delta.tables import *\n",
    "\n",
    "spark.conf.set(\"spark.sql.shuffle.partitions\", 6)\n",
    "spark.conf.set(\"spark.default.parallelism\", 3)\n",
    "spark.conf.set(\"spark.sql.execution.arrow.enabled\", \"true\")\n",
    "spark.conf.set(\"spark.sql.execution.arrow.fallback.enabled\", \"true\")"
   ]
  },
  {
   "cell_type": "code",
   "execution_count": 2,
   "metadata": {},
   "outputs": [],
   "source": [
    "inputData = \"/home/oliver/Fifa21/fifa21_male2.csv\" "
   ]
  },
  {
   "cell_type": "code",
   "execution_count": 3,
   "metadata": {},
   "outputs": [
    {
     "output_type": "stream",
     "name": "stdout",
     "text": [
      "+---+-----------+---+---+--------------------+-------------+---+---+------------+--------------------+--------------------+--------------------+---+--------------------+------+------+-----+------+------------+-------------+-----+----+--------------+-----------+---------+--------+---------+----------------+-------------+-------+-----+---------+-----+-----------+------------+------------+--------+------------+------------+-------+---------+-------+-----+----------+-------+-------+--------+----------+---------+----------+-------------+-----------+------+---------+---------+---------+-------+---------------+--------------+-----------+---------+-----------+----------+--------------+-----------+-----------+----------+---+---+------+------+---+---+---+---+---+---+---+----+----+----+----+----+----+----+----+----+-----+-----+-----+----+----+----+----+----+-----+-----+-----+-----+-----+-----+----+----+----+-----+----+------+\n| ID|       Name|Age|OVA|         Nationality|         Club|BOV| BP|    Position|        Player Photo|           Club Logo|          Flag Photo|POT|     Team & Contract|Height|Weight| foot|Growth|      Joined|Loan Date End|Value|Wage|Release Clause|   Contract|Attacking|Crossing|Finishing|Heading Accuracy|Short Passing|Volleys|Skill|Dribbling|Curve|FK Accuracy|Long Passing|Ball Control|Movement|Acceleration|Sprint Speed|Agility|Reactions|Balance|Power|Shot Power|Jumping|Stamina|Strength|Long Shots|Mentality|Aggression|Interceptions|Positioning|Vision|Penalties|Composure|Defending|Marking|Standing Tackle|Sliding Tackle|Goalkeeping|GK Diving|GK Handling|GK Kicking|GK Positioning|GK Reflexes|Total Stats|Base Stats|W/F| SM|   A/W|   D/W| IR|PAC|SHO|PAS|DRI|DEF|PHY|Hits|  LS|  ST|  RS|  LW|  LF|  CF|  RF|  RW|  LAM|  CAM|  RAM|  LM| LCM|  CM| RCM|  RM|  LWB|  LDM|  CDM|  RDM|  RWB|   LB| LCB|  CB| RCB|   RB|  GK|Gender|\n+---+-----------+---+---+--------------------+-------------+---+---+------------+--------------------+--------------------+--------------------+---+--------------------+------+------+-----+------+------------+-------------+-----+----+--------------+-----------+---------+--------+---------+----------------+-------------+-------+-----+---------+-----+-----------+------------+------------+--------+------------+------------+-------+---------+-------+-----+----------+-------+-------+--------+----------+---------+----------+-------------+-----------+------+---------+---------+---------+-------+---------------+--------------+-----------+---------+-----------+----------+--------------+-----------+-----------+----------+---+---+------+------+---+---+---+---+---+---+---+----+----+----+----+----+----+----+----+----+-----+-----+-----+----+----+----+----+----+-----+-----+-----+-----+-----+-----+----+----+----+-----+----+------+\n|  2|G. Pasquale| 33| 69|               Italy|      Udinese| 71|LWB|          LM|https://cdn.sofif...|https://cdn.sofif...|https://cdn.sofif...| 69| Udinese 2008 ~ 2016| 6'0\"\"|181lbs| Left|     0| Jul 1, 2008|         null|€625K| €7K|            €0|2008 ~ 2016|      313|      75|       50|              59|           71|   58.0|  338|       73| 65.0|         60|          69|          71|     347|          68|          74|   68.0|       69|   68.0|  347|        74|   68.0|     69|      68|        68|      320|        72|         69.0|       63.0|  66.0|       50|     null|      208|     70|             69|          69.0|         56|       14|          5|        15|            10|         12|       1929|       408|3 ★| 2★|Medium|  High|2 ★| 71| 59| 70| 71| 68| 69|   4|65+0|65+0|65+0|68+0|67+0|67+0|67+0|68+0| 68+0| 68+0| 68+0|69+0|69+0|69+0|69+0|69+0|71+-2|70+-1|70+-1|70+-1|71+-2|70+-1|69+0|69+0|69+0|70+-1|17+0|  Male|\n| 16|Luis García| 37| 71|               Spain|    KAS Eupen| 70| CM|  CM CAM CDM|https://cdn.sofif...|https://cdn.sofif...|https://cdn.sofif...| 71|KAS Eupen 2014 ~ ...|5'10\"\"|143lbs|Right|     0|Jul 19, 2014|         null|€600K| €7K|         €1.1M|2014 ~ 2019|      337|      68|       64|              61|           76|   68.0|  369|       69| 79.0|         79|          71|          71|     305|          56|          50|   62.0|       65|   72.0|  324|        75|   54.0|     64|      60|        71|      362|        71|         71.0|       72.0|  73.0|       75|     79.0|      153|     70|             43|          40.0|         56|        9|         12|        13|            11|         11|       1906|       385|4 ★| 3★|Medium|Medium|1 ★| 53| 69| 73| 69| 58| 63|   4|67+1|67+1|67+1|67+0|68+0|68+0|68+0|67+0| 70+1| 70+1| 70+1|68+1|70+1|70+1|70+1|68+1| 62+1| 66+1| 66+1| 66+1| 62+1| 60+1|60+1|60+1|60+1| 60+1|17+1|  Male|\n| 27|    J. Cole| 33| 71|             England|Coventry City| 71|CAM|CAM RM RW LM|https://cdn.sofif...|https://cdn.sofif...|https://cdn.sofif...| 71|Coventry City 201...| 5'9\"\"|161lbs|Right|     0| Jan 7, 2016|         null|€1.1M|€15K|            €0|2016 ~ 2020|      337|      80|       64|              41|           77|   75.0|  387|       79| 84.0|         77|          69|          78|     295|          48|          42|   71.0|       59|   75.0|  284|        72|   58.0|     29|      56|        69|      317|        69|         39.0|       69.0|  74.0|       66|     null|       99|     35|             34|          30.0|         51|        9|          6|        13|            16|          7|       1770|       354|4 ★| 4★|Medium|   Low|2 ★| 45| 68| 76| 77| 36| 52|  11|64+0|64+0|64+0|70+0|69+0|69+0|69+0|70+0| 71+0| 71+0| 71+0|68+0|66+0|66+0|66+0|68+0| 52+0| 54+0| 54+0| 54+0| 52+0| 47+0|46+0|46+0|46+0| 47+0|15+0|  Male|\n| 36|   D. Yorke| 36| 68|Trinidad &amp; To...|   Sunderland| 70| ST|        null|https://cdn.sofif...|https://cdn.sofif...|https://cdn.sofif...| 82|     Sunderland 2009|5'11\"\"|165lbs|Right|    14|        null|         null|   €0|  €0|            €0|       2009|      264|      54|       70|              60|           80|   null|  255|       68| null|         46|          64|          77|     176|          59|          62|   null|       55|   null|  239|        63|   null|     51|      66|        59|      271|        59|         70.0|       72.0|  null|       70|     null|       75|     34|             41|          null|         68|        5|         21|        64|            21|         21|       1348|       369|3 ★| 1★|  null|  null|1 ★| 61| 66| 66| 69| 47| 60|   3|67+0|67+0|67+0|66+0|67+0|67+0|67+0|66+0| 70+0| 70+0| 70+0|66+0|68+0|68+0|68+0|66+0| 56+0| 65+0| 65+0| 65+0| 56+0| 57+0|51+0|51+0|51+0| 57+0|22+0|  Male|\n| 41|    Iniesta| 36| 81|               Spain|  Vissel Kobe| 82|CAM|      CM CAM|https://cdn.sofif...|https://cdn.sofif...|https://cdn.sofif...| 81|Vissel Kobe 2018 ...| 5'7\"\"|150lbs|Right|     0|Jul 16, 2018|         null|€5.5M|€12K|         €7.2M|2018 ~ 2021|      367|      75|       69|              54|           90|   79.0|  408|       85| 80.0|         70|          83|          90|     346|          61|          56|   79.0|       75|   75.0|  297|        67|   40.0|     58|      62|        70|      370|        58|         70.0|       78.0|  93.0|       71|     89.0|      181|     68|             57|          56.0|         45|        6|         13|         6|            13|          7|       2014|       420|4 ★| 4★|  High|Medium|4 ★| 58| 70| 85| 85| 63| 59| 149|72+3|72+3|72+3|79+0|79+0|79+0|79+0|79+0|82+-1|82+-1|82+-1|79+2|81+0|81+0|81+0|79+2| 70+3| 73+3| 73+3| 73+3| 70+3| 67+3|64+3|64+3|64+3| 67+3|17+3|  Male|\n+---+-----------+---+---+--------------------+-------------+---+---+------------+--------------------+--------------------+--------------------+---+--------------------+------+------+-----+------+------------+-------------+-----+----+--------------+-----------+---------+--------+---------+----------------+-------------+-------+-----+---------+-----+-----------+------------+------------+--------+------------+------------+-------+---------+-------+-----+----------+-------+-------+--------+----------+---------+----------+-------------+-----------+------+---------+---------+---------+-------+---------------+--------------+-----------+---------+-----------+----------+--------------+-----------+-----------+----------+---+---+------+------+---+---+---+---+---+---+---+----+----+----+----+----+----+----+----+----+-----+-----+-----+----+----+----+----+----+-----+-----+-----+-----+-----+-----+----+----+----+-----+----+------+\nonly showing top 5 rows\n\n"
     ]
    }
   ],
   "source": [
    "fifa21DF = (\n",
    "    spark.read\n",
    "    .format(\"csv\")\n",
    "    .option(\"header\",\"true\")\n",
    "    .load(inputData)\n",
    ")\n",
    "fifa21DF.show(5)"
   ]
  },
  {
   "cell_type": "code",
   "execution_count": 4,
   "metadata": {},
   "outputs": [],
   "source": [
    "from pyspark.sql.window import Window\n",
    "from pyspark.sql.functions import desc, dense_rank, countDistinct\n",
    "\n",
    "windowSpec = Window.partitionBy(\"Position\").orderBy(desc(\"POT\"))\n",
    "POTDenseRank = dense_rank().over(windowSpec)\n",
    "\n",
    "top10Players_Position = fifa21DF.select(\n",
    "    col(\"Position\"),\n",
    "    col(\"Name\"),\n",
    "    col(\"Club\"),\n",
    "    col(\"POT\"),\n",
    "    POTDenseRank.alias(\"top10\")\n",
    ").where(\"Position IS NOT NULL AND top10 <= 10\")"
   ]
  },
  {
   "cell_type": "code",
   "execution_count": 5,
   "metadata": {},
   "outputs": [],
   "source": [
    "nationalitiesPath = \"Nationalities\"\n",
    "fifa21DF.write.partitionBy(\"Nationality\").mode(\"overwrite\").format(\"orc\").save(nationalitiesPath)"
   ]
  },
  {
   "cell_type": "code",
   "execution_count": 6,
   "metadata": {},
   "outputs": [],
   "source": [
    "top10Path = \"TOP10\"\n",
    "top10Players_Position.write.partitionBy(\"Position\").mode(\"overwrite\").format(\"orc\").save(top10Path)"
   ]
  },
  {
   "cell_type": "code",
   "execution_count": 7,
   "metadata": {},
   "outputs": [
    {
     "output_type": "stream",
     "name": "stdout",
     "text": [
      "+--------------------+---------+--------------------------+\n|                Club| Position|Number of players per Club|\n+--------------------+---------+--------------------------+\n|1. FC Heidenheim ...|       CB|                         2|\n|1. FC Heidenheim ...|    CB LB|                         1|\n|1. FC Heidenheim ...|      CDM|                         1|\n|1. FC Heidenheim ...|   CDM CM|                         1|\n|1. FC Heidenheim ...|       CF|                         1|\n|1. FC Heidenheim ...|       CM|                         1|\n|1. FC Heidenheim ...|   CM CDM|                         1|\n|1. FC Heidenheim ...|    CM LM|                         1|\n|1. FC Heidenheim ...| CM RM RB|                         1|\n|1. FC Heidenheim ...|       GK|                         3|\n|1. FC Heidenheim ...|       LB|                         2|\n|1. FC Heidenheim ...|   LB CDM|                         1|\n|1. FC Heidenheim ...|    LM RM|                         1|\n|1. FC Heidenheim ...|    LM ST|                         1|\n|1. FC Heidenheim ...|       RB|                         2|\n|1. FC Heidenheim ...|RM LM CAM|                         1|\n|1. FC Heidenheim ...|       ST|                         3|\n|1. FC Heidenheim ...| ST RM LM|                         1|\n|1. FC Kaiserslautern|      CAM|                         1|\n|1. FC Kaiserslautern|   CAM CM|                         3|\n+--------------------+---------+--------------------------+\nonly showing top 20 rows\n\n"
     ]
    }
   ],
   "source": [
    "from pyspark.sql.functions import countDistinct\n",
    "\n",
    "fifa21DF.groupBy(\"Club\", \"Position\").agg(\n",
    "    countDistinct(\"Name\").alias(\"Number of players per Club\")\n",
    ").where(\"Position IS NOT NULL AND Club IS NOT NULL\").orderBy(\"Club\", \"Position\").show()"
   ]
  },
  {
   "cell_type": "code",
   "execution_count": 8,
   "metadata": {},
   "outputs": [
    {
     "output_type": "stream",
     "name": "stdout",
     "text": [
      "+------------------+-------------------------+\n|              Club|Avg sprint speed per club|\n+------------------+-------------------------+\n|  Alemannia Aachen|                     91.0|\n|     United States|                     91.0|\n|    UCAM Murcia CF|                     90.0|\n|     GIF Sundsvall|                     89.0|\n|      Terek Grozny|                     89.0|\n|        Córdoba CF|                     88.0|\n|         Dundee FC|                     86.0|\n|Dorados de Sinaloa|                     85.0|\n|       Netherlands|                     84.0|\n|           Palermo|                     83.0|\n+------------------+-------------------------+\nonly showing top 10 rows\n\n"
     ]
    }
   ],
   "source": [
    "from pyspark.sql.functions import avg\n",
    "\n",
    "fifa21DF.groupBy(\"Club\").agg(\n",
    "    avg(\"Sprint Speed\").alias(\"Avg sprint speed per club\")\n",
    ").orderBy(desc(\"Avg sprint speed per club\")).show(10)"
   ]
  },
  {
   "cell_type": "code",
   "execution_count": 10,
   "metadata": {
    "tags": []
   },
   "outputs": [],
   "source": [
    "from pyspark.sql.functions import regexp_extract\n",
    "\n",
    "OverweightPath = \"Overweight\"\n",
    "fifa21DF = fifa21DF.withColumn(\"Weight\", regexp_extract(\"Weight\", \"\\\\d+\",0))\n",
    "fifa21DF = fifa21DF.withColumn(\"Weight\", fifa21DF.Weight.cast(\"float\"))\n",
    "\n",
    "fifa21DF = fifa21DF.withColumn(\"Feet\", regexp_extract(\"Height\", \"\\\\d+\",0))\n",
    "fifa21DF = fifa21DF.withColumn(\"Feet\", fifa21DF.Feet.cast(\"float\"))\n",
    "\n",
    "\n",
    "fifa21DF = fifa21DF.withColumn(\"inches\", regexp_extract(\"Height\", \"'\\\\d+\",0))\n",
    "fifa21DF = fifa21DF.withColumn(\"inches\", regexp_extract(\"inches\", \"\\\\d+\",0))\n",
    "fifa21DF = fifa21DF.withColumn(\"inches\", fifa21DF.inches.cast(\"float\"))\n",
    "\n",
    "fifa21DF = fifa21DF.withColumn(\"IMC\", (col(\"Weight\") / ((col(\"Feet\") * 12) + col(\"inches\"))**2 * 703) )\n",
    "OverweightPlayers = fifa21DF.where(\"IMC > 25\")\n",
    "OverweightPlayers.write.mode(\"overwrite\").format(\"orc\").save(OverweightPath)"
   ]
  },
  {
   "cell_type": "code",
   "execution_count": null,
   "metadata": {},
   "outputs": [],
   "source": []
  }
 ]
}